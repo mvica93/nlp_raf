{
 "cells": [
  {
   "cell_type": "code",
   "execution_count": null,
   "metadata": {},
   "outputs": [
    {
     "name": "stdout",
     "output_type": "stream",
     "text": [
      "              precision    recall  f1-score   support\n",
      "\n",
      "         emo       0.50      0.33      0.40         3\n",
      "        info       0.94      0.97      0.95        30\n",
      "\n",
      "    accuracy                           0.91        33\n",
      "   macro avg       0.72      0.65      0.68        33\n",
      "weighted avg       0.90      0.91      0.90        33\n",
      "\n"
     ]
    }
   ],
   "source": [
    "import pandas as pd;\n",
    "import sklearn;\n",
    "\n",
    "from sklearn.model_selection import train_test_split;\n",
    "from sklearn.pipeline import Pipeline;\n",
    "from sklearn.svm import LinearSVC;\n",
    "from sklearn.feature_extraction.text import TfidfVectorizer;\n",
    "from sklearn.metrics import confusion_matrix, classification_report;\n",
    "\n",
    "# Sentence Classification using SVM \n",
    "\n",
    "# Load the dataset from a TSV file (tab-separated values)\n",
    "data_frame = pd.read_csv(\"data.tsv\", sep=\"\\t\", encoding=\"utf-8\");\n",
    "\n",
    "#print(data_frame.head(10));\n",
    "\n",
    "# Extract the sentence column (X) and labels (y)\n",
    "X = data_frame[\"recenica\"];\n",
    "y = data_frame[\"labela\"];\n",
    "\n",
    "# Split the dataset into training (67%) and testing (33%) sets\n",
    "X_train, X_test, y_train, y_test = train_test_split(X, y, test_size=0.33, random_state=42);\n",
    "\n",
    "# Define a classification pipeline:\n",
    "# 1. Convert text data into TF-IDF vectors\n",
    "# 2. Train a Support Vector Machine (SVM) model with a linear kernel\n",
    "model = Pipeline([\n",
    "    (\"vectorizer\", TfidfVectorizer()), \n",
    "    (\"svc\", LinearSVC())\n",
    "]);\n",
    "\n",
    "# Train the model using the training data\n",
    "model.fit(X_train, y_train);\n",
    "\n",
    "# Make predictions on the test data\n",
    "predictions = model.predict(X_test);\n",
    "\n",
    "# Generate a confusion matrix and display it as a DataFrame\n",
    "conf_matrix = pd.DataFrame(confusion_matrix(y_test, predictions),\n",
    "                           index=[\"emo\", \"info\"], columns=[\"emo\", \"info\"]);\n",
    "\n",
    "print(conf_matrix);\n",
    "\n",
    "# Print the classification report with precision, recall, and F1-score\n",
    "print(classification_report(y_test, predictions));\n",
    "\n",
    "\n"
   ]
  }
 ],
 "metadata": {
  "kernelspec": {
   "display_name": ".venv",
   "language": "python",
   "name": "python3"
  },
  "language_info": {
   "codemirror_mode": {
    "name": "ipython",
    "version": 3
   },
   "file_extension": ".py",
   "mimetype": "text/x-python",
   "name": "python",
   "nbconvert_exporter": "python",
   "pygments_lexer": "ipython3",
   "version": "3.12.7"
  }
 },
 "nbformat": 4,
 "nbformat_minor": 2
}
